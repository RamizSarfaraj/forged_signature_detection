{
 "cells": [
  {
   "cell_type": "code",
   "execution_count": 16,
   "id": "sustainable-newark",
   "metadata": {},
   "outputs": [],
   "source": [
    "from ProcessImage import Load_Image\n",
    "import pandas as pd\n",
    "import os"
   ]
  },
  {
   "cell_type": "code",
   "execution_count": 93,
   "id": "41d563e8",
   "metadata": {},
   "outputs": [],
   "source": [
    "# path = \"../Signs/Processed-Original/English/\"\n",
    "\n",
    "# def id(path):\n",
    "#     lst = []\n",
    "#     for root, dirs, filename in os.walk(path):\n",
    "#         file = os.path.join(path, filename)\n",
    "#         lst.append(file)\n",
    "#     return lst\n",
    "\n",
    "# imglist = id(path)"
   ]
  },
  {
   "cell_type": "code",
   "execution_count": 45,
   "id": "0a3bae4d",
   "metadata": {},
   "outputs": [
    {
     "name": "stdout",
     "output_type": "stream",
     "text": [
      "113\n"
     ]
    }
   ],
   "source": [
    "print(len(imglist))"
   ]
  },
  {
   "cell_type": "code",
   "execution_count": 46,
   "id": "ad80421d",
   "metadata": {},
   "outputs": [],
   "source": [
    "def mark(img):\n",
    "    im = img\n",
    "    la = 1\n",
    "    return im, la"
   ]
  },
  {
   "cell_type": "code",
   "execution_count": 47,
   "id": "aba939d8",
   "metadata": {},
   "outputs": [],
   "source": [
    "image, label = [], []\n",
    "\n",
    "for im in imglist:\n",
    "    img, ls = mark(im)\n",
    "    image.append(img)\n",
    "    label.append(ls)"
   ]
  },
  {
   "cell_type": "code",
   "execution_count": 48,
   "id": "b128e919",
   "metadata": {},
   "outputs": [
    {
     "data": {
      "text/plain": [
       "(113, 113)"
      ]
     },
     "execution_count": 48,
     "metadata": {},
     "output_type": "execute_result"
    }
   ],
   "source": [
    "len(image), len(label)"
   ]
  },
  {
   "cell_type": "code",
   "execution_count": 49,
   "id": "cdf113de",
   "metadata": {},
   "outputs": [],
   "source": [
    "data = {\n",
    "    \"id\": image,\n",
    "    \"label\": label\n",
    "}"
   ]
  },
  {
   "cell_type": "code",
   "execution_count": 50,
   "id": "dbadf145",
   "metadata": {},
   "outputs": [],
   "source": [
    "df = pd.DataFrame(data)"
   ]
  },
  {
   "cell_type": "code",
   "execution_count": 53,
   "id": "057e30bd",
   "metadata": {},
   "outputs": [
    {
     "data": {
      "text/html": [
       "<div>\n",
       "<style scoped>\n",
       "    .dataframe tbody tr th:only-of-type {\n",
       "        vertical-align: middle;\n",
       "    }\n",
       "\n",
       "    .dataframe tbody tr th {\n",
       "        vertical-align: top;\n",
       "    }\n",
       "\n",
       "    .dataframe thead th {\n",
       "        text-align: right;\n",
       "    }\n",
       "</style>\n",
       "<table border=\"1\" class=\"dataframe\">\n",
       "  <thead>\n",
       "    <tr style=\"text-align: right;\">\n",
       "      <th></th>\n",
       "      <th>id</th>\n",
       "      <th>label</th>\n",
       "    </tr>\n",
       "  </thead>\n",
       "  <tbody>\n",
       "    <tr>\n",
       "      <th>73</th>\n",
       "      <td>../Signs/Processed-Original/English/12/ENG_070...</td>\n",
       "      <td>1</td>\n",
       "    </tr>\n",
       "    <tr>\n",
       "      <th>74</th>\n",
       "      <td>../Signs/Processed-Original/English/12/ENG_062...</td>\n",
       "      <td>1</td>\n",
       "    </tr>\n",
       "    <tr>\n",
       "      <th>75</th>\n",
       "      <td>../Signs/Processed-Original/English/12/ENG_064...</td>\n",
       "      <td>1</td>\n",
       "    </tr>\n",
       "    <tr>\n",
       "      <th>76</th>\n",
       "      <td>../Signs/Processed-Original/English/12/ENG_067...</td>\n",
       "      <td>1</td>\n",
       "    </tr>\n",
       "    <tr>\n",
       "      <th>77</th>\n",
       "      <td>../Signs/Processed-Original/English/12/ENG_065...</td>\n",
       "      <td>1</td>\n",
       "    </tr>\n",
       "    <tr>\n",
       "      <th>78</th>\n",
       "      <td>../Signs/Processed-Original/English/12/ENG_067...</td>\n",
       "      <td>1</td>\n",
       "    </tr>\n",
       "    <tr>\n",
       "      <th>79</th>\n",
       "      <td>../Signs/Processed-Original/English/12/ENG_064...</td>\n",
       "      <td>1</td>\n",
       "    </tr>\n",
       "    <tr>\n",
       "      <th>80</th>\n",
       "      <td>../Signs/Processed-Original/English/12/ENG_071...</td>\n",
       "      <td>1</td>\n",
       "    </tr>\n",
       "    <tr>\n",
       "      <th>81</th>\n",
       "      <td>../Signs/Processed-Original/English/12/ENG_070...</td>\n",
       "      <td>1</td>\n",
       "    </tr>\n",
       "    <tr>\n",
       "      <th>82</th>\n",
       "      <td>../Signs/Processed-Original/English/12/ENG_063...</td>\n",
       "      <td>1</td>\n",
       "    </tr>\n",
       "    <tr>\n",
       "      <th>83</th>\n",
       "      <td>../Signs/Processed-Original/English/12/ENG_067...</td>\n",
       "      <td>1</td>\n",
       "    </tr>\n",
       "    <tr>\n",
       "      <th>84</th>\n",
       "      <td>../Signs/Processed-Original/English/12/ENG_067...</td>\n",
       "      <td>1</td>\n",
       "    </tr>\n",
       "    <tr>\n",
       "      <th>85</th>\n",
       "      <td>../Signs/Processed-Original/English/12/ENG_061...</td>\n",
       "      <td>1</td>\n",
       "    </tr>\n",
       "    <tr>\n",
       "      <th>86</th>\n",
       "      <td>../Signs/Processed-Original/English/12/ENG_070...</td>\n",
       "      <td>1</td>\n",
       "    </tr>\n",
       "    <tr>\n",
       "      <th>87</th>\n",
       "      <td>../Signs/Processed-Original/English/12/ENG_068...</td>\n",
       "      <td>1</td>\n",
       "    </tr>\n",
       "    <tr>\n",
       "      <th>88</th>\n",
       "      <td>../Signs/Processed-Original/English/12/ENG_068...</td>\n",
       "      <td>1</td>\n",
       "    </tr>\n",
       "    <tr>\n",
       "      <th>89</th>\n",
       "      <td>../Signs/Processed-Original/English/12/ENG_061...</td>\n",
       "      <td>1</td>\n",
       "    </tr>\n",
       "    <tr>\n",
       "      <th>90</th>\n",
       "      <td>../Signs/Processed-Original/English/12/ENG_065...</td>\n",
       "      <td>1</td>\n",
       "    </tr>\n",
       "    <tr>\n",
       "      <th>91</th>\n",
       "      <td>../Signs/Processed-Original/English/12/ENG_064...</td>\n",
       "      <td>1</td>\n",
       "    </tr>\n",
       "    <tr>\n",
       "      <th>92</th>\n",
       "      <td>../Signs/Processed-Original/English/12/ENG_065...</td>\n",
       "      <td>1</td>\n",
       "    </tr>\n",
       "    <tr>\n",
       "      <th>93</th>\n",
       "      <td>../Signs/Processed-Original/English/12/ENG_061...</td>\n",
       "      <td>1</td>\n",
       "    </tr>\n",
       "    <tr>\n",
       "      <th>94</th>\n",
       "      <td>../Signs/Processed-Original/English/12/ENG_065...</td>\n",
       "      <td>1</td>\n",
       "    </tr>\n",
       "    <tr>\n",
       "      <th>95</th>\n",
       "      <td>../Signs/Processed-Original/English/12/ENG_060...</td>\n",
       "      <td>1</td>\n",
       "    </tr>\n",
       "    <tr>\n",
       "      <th>96</th>\n",
       "      <td>../Signs/Processed-Original/English/12/ENG_061...</td>\n",
       "      <td>1</td>\n",
       "    </tr>\n",
       "    <tr>\n",
       "      <th>97</th>\n",
       "      <td>../Signs/Processed-Original/English/12/ENG_070...</td>\n",
       "      <td>1</td>\n",
       "    </tr>\n",
       "    <tr>\n",
       "      <th>98</th>\n",
       "      <td>../Signs/Processed-Original/English/12/ENG_060...</td>\n",
       "      <td>1</td>\n",
       "    </tr>\n",
       "    <tr>\n",
       "      <th>99</th>\n",
       "      <td>../Signs/Processed-Original/English/12/ENG_063...</td>\n",
       "      <td>1</td>\n",
       "    </tr>\n",
       "    <tr>\n",
       "      <th>100</th>\n",
       "      <td>../Signs/Processed-Original/English/12/ENG_069...</td>\n",
       "      <td>1</td>\n",
       "    </tr>\n",
       "    <tr>\n",
       "      <th>101</th>\n",
       "      <td>../Signs/Processed-Original/English/12/ENG_069...</td>\n",
       "      <td>1</td>\n",
       "    </tr>\n",
       "    <tr>\n",
       "      <th>102</th>\n",
       "      <td>../Signs/Processed-Original/English/12/ENG_071...</td>\n",
       "      <td>1</td>\n",
       "    </tr>\n",
       "    <tr>\n",
       "      <th>103</th>\n",
       "      <td>../Signs/Processed-Original/English/12/ENG_062...</td>\n",
       "      <td>1</td>\n",
       "    </tr>\n",
       "    <tr>\n",
       "      <th>104</th>\n",
       "      <td>../Signs/Processed-Original/English/12/ENG_061...</td>\n",
       "      <td>1</td>\n",
       "    </tr>\n",
       "    <tr>\n",
       "      <th>105</th>\n",
       "      <td>../Signs/Processed-Original/English/12/ENG_066...</td>\n",
       "      <td>1</td>\n",
       "    </tr>\n",
       "    <tr>\n",
       "      <th>106</th>\n",
       "      <td>../Signs/Processed-Original/English/12/ENG_062...</td>\n",
       "      <td>1</td>\n",
       "    </tr>\n",
       "    <tr>\n",
       "      <th>107</th>\n",
       "      <td>../Signs/Processed-Original/English/12/ENG_069...</td>\n",
       "      <td>1</td>\n",
       "    </tr>\n",
       "    <tr>\n",
       "      <th>108</th>\n",
       "      <td>../Signs/Processed-Original/English/12/ENG_061...</td>\n",
       "      <td>1</td>\n",
       "    </tr>\n",
       "    <tr>\n",
       "      <th>109</th>\n",
       "      <td>../Signs/Processed-Original/English/12/ENG_063...</td>\n",
       "      <td>1</td>\n",
       "    </tr>\n",
       "    <tr>\n",
       "      <th>110</th>\n",
       "      <td>../Signs/Processed-Original/English/12/ENG_067...</td>\n",
       "      <td>1</td>\n",
       "    </tr>\n",
       "    <tr>\n",
       "      <th>111</th>\n",
       "      <td>../Signs/Processed-Original/English/12/ENG_070...</td>\n",
       "      <td>1</td>\n",
       "    </tr>\n",
       "    <tr>\n",
       "      <th>112</th>\n",
       "      <td>../Signs/Processed-Original/English/12/ENG_060...</td>\n",
       "      <td>1</td>\n",
       "    </tr>\n",
       "  </tbody>\n",
       "</table>\n",
       "</div>"
      ],
      "text/plain": [
       "                                                    id  label\n",
       "73   ../Signs/Processed-Original/English/12/ENG_070...      1\n",
       "74   ../Signs/Processed-Original/English/12/ENG_062...      1\n",
       "75   ../Signs/Processed-Original/English/12/ENG_064...      1\n",
       "76   ../Signs/Processed-Original/English/12/ENG_067...      1\n",
       "77   ../Signs/Processed-Original/English/12/ENG_065...      1\n",
       "78   ../Signs/Processed-Original/English/12/ENG_067...      1\n",
       "79   ../Signs/Processed-Original/English/12/ENG_064...      1\n",
       "80   ../Signs/Processed-Original/English/12/ENG_071...      1\n",
       "81   ../Signs/Processed-Original/English/12/ENG_070...      1\n",
       "82   ../Signs/Processed-Original/English/12/ENG_063...      1\n",
       "83   ../Signs/Processed-Original/English/12/ENG_067...      1\n",
       "84   ../Signs/Processed-Original/English/12/ENG_067...      1\n",
       "85   ../Signs/Processed-Original/English/12/ENG_061...      1\n",
       "86   ../Signs/Processed-Original/English/12/ENG_070...      1\n",
       "87   ../Signs/Processed-Original/English/12/ENG_068...      1\n",
       "88   ../Signs/Processed-Original/English/12/ENG_068...      1\n",
       "89   ../Signs/Processed-Original/English/12/ENG_061...      1\n",
       "90   ../Signs/Processed-Original/English/12/ENG_065...      1\n",
       "91   ../Signs/Processed-Original/English/12/ENG_064...      1\n",
       "92   ../Signs/Processed-Original/English/12/ENG_065...      1\n",
       "93   ../Signs/Processed-Original/English/12/ENG_061...      1\n",
       "94   ../Signs/Processed-Original/English/12/ENG_065...      1\n",
       "95   ../Signs/Processed-Original/English/12/ENG_060...      1\n",
       "96   ../Signs/Processed-Original/English/12/ENG_061...      1\n",
       "97   ../Signs/Processed-Original/English/12/ENG_070...      1\n",
       "98   ../Signs/Processed-Original/English/12/ENG_060...      1\n",
       "99   ../Signs/Processed-Original/English/12/ENG_063...      1\n",
       "100  ../Signs/Processed-Original/English/12/ENG_069...      1\n",
       "101  ../Signs/Processed-Original/English/12/ENG_069...      1\n",
       "102  ../Signs/Processed-Original/English/12/ENG_071...      1\n",
       "103  ../Signs/Processed-Original/English/12/ENG_062...      1\n",
       "104  ../Signs/Processed-Original/English/12/ENG_061...      1\n",
       "105  ../Signs/Processed-Original/English/12/ENG_066...      1\n",
       "106  ../Signs/Processed-Original/English/12/ENG_062...      1\n",
       "107  ../Signs/Processed-Original/English/12/ENG_069...      1\n",
       "108  ../Signs/Processed-Original/English/12/ENG_061...      1\n",
       "109  ../Signs/Processed-Original/English/12/ENG_063...      1\n",
       "110  ../Signs/Processed-Original/English/12/ENG_067...      1\n",
       "111  ../Signs/Processed-Original/English/12/ENG_070...      1\n",
       "112  ../Signs/Processed-Original/English/12/ENG_060...      1"
      ]
     },
     "execution_count": 53,
     "metadata": {},
     "output_type": "execute_result"
    }
   ],
   "source": [
    "df.tail(40)"
   ]
  },
  {
   "cell_type": "code",
   "execution_count": 54,
   "id": "af02fc4d",
   "metadata": {},
   "outputs": [],
   "source": [
    "path = \"$HOME/Signture_project/src/\""
   ]
  },
  {
   "cell_type": "code",
   "execution_count": 60,
   "id": "7f438e30",
   "metadata": {},
   "outputs": [
    {
     "ename": "TypeError",
     "evalue": "'module' object is not callable",
     "output_type": "error",
     "traceback": [
      "\u001b[0;31m---------------------------------------------------------------------------\u001b[0m",
      "\u001b[0;31mTypeError\u001b[0m                                 Traceback (most recent call last)",
      "\u001b[0;32m<ipython-input-60-ad790ec278e2>\u001b[0m in \u001b[0;36m<module>\u001b[0;34m\u001b[0m\n\u001b[0;32m----> 1\u001b[0;31m \u001b[0mos\u001b[0m\u001b[0;34m.\u001b[0m\u001b[0msys\u001b[0m\u001b[0;34m(\u001b[0m\u001b[0;34m'ls'\u001b[0m\u001b[0;34m,\u001b[0m \u001b[0mpath\u001b[0m\u001b[0;34m)\u001b[0m\u001b[0;34m\u001b[0m\u001b[0;34m\u001b[0m\u001b[0m\n\u001b[0m",
      "\u001b[0;31mTypeError\u001b[0m: 'module' object is not callable"
     ]
    }
   ],
   "source": [
    "os.sys()"
   ]
  },
  {
   "cell_type": "code",
   "execution_count": 88,
   "id": "5d7e1132",
   "metadata": {},
   "outputs": [],
   "source": [
    "path = \"./../Signs/Processed-Original/English/\"\n",
    "\n",
    "home = []\n",
    "for root, dirs, filename in os.walk(path):\n",
    "    for d in dirs:\n",
    "        directory = os.path.join(root, d)\n",
    "        home.append(directory)"
   ]
  },
  {
   "cell_type": "code",
   "execution_count": 89,
   "id": "ed140965",
   "metadata": {},
   "outputs": [],
   "source": [
    "image_list = []\n",
    "for folder in home:\n",
    "    for file in os.listdir(folder):\n",
    "        image_path = os.path.join(folder, file)\n",
    "        image_list.append(image_path)"
   ]
  },
  {
   "cell_type": "code",
   "execution_count": 90,
   "id": "0db7f72e",
   "metadata": {},
   "outputs": [
    {
     "data": {
      "text/plain": [
       "3963"
      ]
     },
     "execution_count": 90,
     "metadata": {},
     "output_type": "execute_result"
    }
   ],
   "source": [
    "len(image_list)"
   ]
  },
  {
   "cell_type": "code",
   "execution_count": 91,
   "id": "148dfb61",
   "metadata": {},
   "outputs": [
    {
     "name": "stdout",
     "output_type": "stream",
     "text": [
      "['./../Signs/Processed-Original/English/77/ENG_3917.jpg', './../Signs/Processed-Original/English/77/ENG_3923.jpg', './../Signs/Processed-Original/English/77/ENG_3922.jpg', './../Signs/Processed-Original/English/77/ENG_3930.jpg', './../Signs/Processed-Original/English/77/ENG_3916.jpg', './../Signs/Processed-Original/English/77/ENG_3929.jpg', './../Signs/Processed-Original/English/77/ENG_3915.jpg', './../Signs/Processed-Original/English/77/ENG_3936.jpg', './../Signs/Processed-Original/English/77/ENG_3927.jpg', './../Signs/Processed-Original/English/77/ENG_3912.jpg']\n"
     ]
    }
   ],
   "source": [
    "print(image_list[:10])"
   ]
  },
  {
   "cell_type": "code",
   "execution_count": null,
   "id": "c15d0d2d",
   "metadata": {},
   "outputs": [],
   "source": []
  }
 ],
 "metadata": {
  "kernelspec": {
   "display_name": "Python 3",
   "language": "python",
   "name": "python3"
  },
  "language_info": {
   "codemirror_mode": {
    "name": "ipython",
    "version": 3
   },
   "file_extension": ".py",
   "mimetype": "text/x-python",
   "name": "python",
   "nbconvert_exporter": "python",
   "pygments_lexer": "ipython3",
   "version": "3.8.5"
  }
 },
 "nbformat": 4,
 "nbformat_minor": 5
}
