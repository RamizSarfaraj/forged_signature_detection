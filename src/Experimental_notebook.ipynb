{
 "cells": [
  {
   "cell_type": "code",
   "execution_count": 2,
   "metadata": {},
   "outputs": [],
   "source": [
    "import ProcessImage\n",
    "from ProcessImage import Load_Image, Resize_Image, Detect_box, Process_Image\n",
    "import os\n",
    "import cv2\n",
    "import matplotlib.pyplot as plt\n",
    "import numpy as np"
   ]
  },
  {
   "cell_type": "code",
   "execution_count": 18,
   "metadata": {},
   "outputs": [],
   "source": [
    "def show_image(imageList, i=0, num_rows=2, num_cols=2, axis_off=True, figsize=(10, 5)):\n",
    "    x = 1\n",
    "    plt.figure(figsize=figsize)\n",
    "    while (x <= num_rows*num_cols):\n",
    "        plt.subplot(num_rows, num_cols, x)\n",
    "        plt.imshow(imageList[i])\n",
    "        if axis_off:\n",
    "            plt.axis(\"off\")\n",
    "        x+=1\n",
    "        i+=1"
   ]
  },
  {
   "cell_type": "code",
   "execution_count": 4,
   "metadata": {},
   "outputs": [],
   "source": [
    "# imagelist = Load_Image(path)\n",
    "\n",
    "# res = []\n",
    "# for i in imagelist:\n",
    "#     im = Resize_Image(i)\n",
    "#     img = Detect_box(im, Crop=True)\n",
    "#     res.append(img)\n",
    "\n",
    "def saveImage(imagelist, path, count, first=\"BNG_00\",):\n",
    "    for i in range(len(imagelist)):\n",
    "        des = path + first + str(count) + '.jpg'\n",
    "        plt.imsave(des, imagelist[i])\n",
    "        print(count)\n",
    "        count += 1\n",
    "        "
   ]
  },
  {
   "cell_type": "code",
   "execution_count": 5,
   "metadata": {},
   "outputs": [],
   "source": [
    "# path = \"/home/ramiz/Signature_project/Signs/frm_sir/Bangla/14/\"\n",
    "# fake = \"/home/ramiz/Signature_project/Signs/frm_sir/fake/14/\"\n",
    "# def operation(path, fake, count):\n",
    "#     imagelist = Load_Image(path)\n",
    "#     res = []\n",
    "#     for i in imagelist:\n",
    "#         im = Resize_Image(i)\n",
    "#         img = Detect_box(im, Crop=True)\n",
    "#         res.append(img)\n",
    "\n",
    "#     saveImage(res, fake, count, first=\"BNG_0\")\n",
    "\n",
    "#     print(\"\\n\\n\\t\\tDONE\")\n",
    "\n",
    "# operation(path, fake, 732)"
   ]
  },
  {
   "cell_type": "code",
   "execution_count": 6,
   "metadata": {},
   "outputs": [],
   "source": [
    "im_pa = \"./../check/jainab_forge1.jpeg\""
   ]
  },
  {
   "cell_type": "code",
   "execution_count": 8,
   "metadata": {},
   "outputs": [
    {
     "data": {
      "image/png": "[encoded data removed]",
      "text/plain": [
       "<PIL.Image.Image image mode=RGB size=386x80 at 0x7F38180A7A30>"
      ]
     },
     "execution_count": 8,
     "metadata": {},
     "output_type": "execute_result"
    }
   ],
   "source": [
    "from PIL import Image, ImageEnhance\n",
    "# enh = ImageEnhance.\n",
    "img = Image.open(im_pa)\n",
    "# img.show()\n",
    "img.rotate(5.0)"
   ]
  },
  {
   "cell_type": "code",
   "execution_count": 10,
   "metadata": {},
   "outputs": [],
   "source": [
    "def augment(img):\n",
    "    lst = []\n",
    "    lst.append(img)\n",
    "    im1 = img.rotate(5.0)\n",
    "    lst.append(im1)\n",
    "    im2 = img.rotate(-5.0)\n",
    "    lst.append(im2)\n",
    "    return lst\n",
    "    "
   ]
  },
  {
   "cell_type": "code",
   "execution_count": 11,
   "metadata": {},
   "outputs": [],
   "source": [
    "image_list = augment(img)"
   ]
  },
  {
   "cell_type": "code",
   "execution_count": 12,
   "metadata": {},
   "outputs": [
    {
     "data": {
      "text/plain": [
       "3"
      ]
     },
     "execution_count": 12,
     "metadata": {},
     "output_type": "execute_result"
    }
   ],
   "source": [
    "len(image_list)"
   ]
  },
  {
   "cell_type": "code",
   "execution_count": 14,
   "metadata": {},
   "outputs": [],
   "source": [
    "path = \"./../check/\"\n",
    "imga = path + \"ima1.jpg\"\n",
    "plt.imsave(imga, image_list[0])\n",
    "imgb = path + \"ima2.jpg\"\n",
    "plt.imsave(imgb, image_list[1])\n",
    "imgc = path + \"ima3.jpg\"\n",
    "plt.imsave(imgc, image_list[2])"
   ]
  },
  {
   "cell_type": "code",
   "execution_count": 15,
   "metadata": {},
   "outputs": [],
   "source": [
    "im_list = Load_Image(path)\n",
    "new = []\n",
    "for i in range(len(im_list)):\n",
    "    im = Resize_Image(im_list[i])\n",
    "    img = Detect_box(im, Crop=True)\n",
    "    new.append(img)"
   ]
  },
  {
   "cell_type": "code",
   "execution_count": 16,
   "metadata": {},
   "outputs": [
    {
     "data": {
      "text/plain": [
       "4"
      ]
     },
     "execution_count": 16,
     "metadata": {},
     "output_type": "execute_result"
    }
   ],
   "source": [
    "len(new)"
   ]
  },
  {
   "cell_type": "code",
   "execution_count": null,
   "metadata": {},
   "outputs": [],
   "source": []
  }
 ],
 "metadata": {
  "kernelspec": {
   "display_name": "Python 3",
   "language": "python",
   "name": "python3"
  },
  "language_info": {
   "codemirror_mode": {
    "name": "ipython",
    "version": 3
   },
   "file_extension": ".py",
   "mimetype": "text/x-python",
   "name": "python",
   "nbconvert_exporter": "python",
   "pygments_lexer": "ipython3",
   "version": "3.8.5"
  }
 },
 "nbformat": 4,
 "nbformat_minor": 4
}
