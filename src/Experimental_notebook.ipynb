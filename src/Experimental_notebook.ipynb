{
 "cells": [
  {
   "cell_type": "code",
   "execution_count": 1,
   "metadata": {},
   "outputs": [],
   "source": [
    "from ProcessImage import Load_Image, Resize_Image, Detect_box, Process_Image\n",
    "import os\n",
    "import cv2\n",
    "import matplotlib.pyplot as plt\n",
    "import numpy as np"
   ]
  },
  {
   "cell_type": "code",
   "execution_count": 2,
   "metadata": {},
   "outputs": [],
   "source": [
    "def show_image(imageList, i, num_rows=2, num_cols=2, axis_off=True, figsize=(10, 5)):\n",
    "    x = 1\n",
    "    plt.figure(figsize=figsize)\n",
    "    while (x <= num_rows*num_cols):\n",
    "        plt.subplot(num_rows, num_cols, x)\n",
    "        plt.imshow(imageList[i])\n",
    "        if axis_off:\n",
    "            plt.axis(\"off\")\n",
    "        x+=1\n",
    "        i+=1"
   ]
  },
  {
   "cell_type": "code",
   "execution_count": 3,
   "metadata": {},
   "outputs": [],
   "source": [
    "# path = \"/home/ramiz/signatureDetection/Signs/Processed-Original/English/12/\"\n",
    "# # imagelist = Load_Image(path)\n",
    "# # print(len(imagelist))\n",
    "# # show_image(imagelist, 0, num_rows=3, num_cols=2, axis_off=False)"
   ]
  },
  {
   "cell_type": "code",
   "execution_count": 4,
   "metadata": {},
   "outputs": [],
   "source": [
    "# files = []\n",
    "# dnames = []\n",
    "# dpaths = []\n",
    "# for r, d, f in os.walk(path):\n",
    "#     for dpath in r:\n",
    "#         dpaths.append(dpath)\n",
    "#     for dname in d:\n",
    "#         dnames.append(dname)\n",
    "#     for file in f:\n",
    "#         if \".jpg\" in file:\n",
    "#             files.append(file)\n",
    "#             print(file)\n",
    "            \n",
    "# print(len(files))\n",
    "# print(len(dnames))"
   ]
  },
  {
   "cell_type": "code",
   "execution_count": 5,
   "metadata": {},
   "outputs": [],
   "source": [
    "# print(dnames[73])\n",
    "# print(dpaths[9])"
   ]
  },
  {
   "cell_type": "code",
   "execution_count": 32,
   "metadata": {},
   "outputs": [],
   "source": [
    "def box_detector(img, draw=False):\n",
    "    img_yuv = cv2.cvtColor(img, cv2.COLOR_BGR2YUV)\n",
    "    img_y = np.zeros(img_yuv.shape[0:2], np.uint8)\n",
    "    img_y[:, :] = img_yuv[:, : , 0]\n",
    "    \n",
    "    \n",
    "    img_blur = cv2.GaussianBlur(img_y, (5,5), 0)\n",
    "    edges = cv2.Canny(img_blur, 100, 500, apertureSize=3)\n",
    "    \n",
    "    contours, hier = cv2.findContours(edges, cv2.RETR_EXTERNAL, cv2.CHAIN_APPROX_SIMPLE)\n",
    "    \n",
    "    img_area = img.shape[1] * img.shape[0]\n",
    "    \n",
    "    new_contours = []\n",
    "    for c in contours:\n",
    "        if cv2.contourArea(c) < img_area:\n",
    "            new_contours.append(c)\n",
    "            \n",
    "    best_box = [-1, -1, -1, -1]\n",
    "    for c in new_contours:\n",
    "        x, y, w, h = cv2.boundingRect(c)\n",
    "        if best_box[0] < 0:\n",
    "            best_box = [x, y, x+w, y+h]\n",
    "        else:\n",
    "            if x < best_box[0]:\n",
    "                best_box[0] = x\n",
    "            if y < best_box[1]:\n",
    "                best_box[1] = y\n",
    "            if x+w > best_box[2]:\n",
    "                best_box[2] = x+w\n",
    "            if y+h > best_box[3]:\n",
    "                best_box[3] = y+h\n",
    "\n",
    "\n",
    "    point_a = (best_box[0], best_box[1])\n",
    "    point_b = (best_box[2], best_box[3])\n",
    "    \n",
    "    if draw:\n",
    "        im = cv2.rectangle(img, point_a, point_a, (0,255,0), 5)\n",
    "        \n",
    "    return im, best_box"
   ]
  },
  {
   "cell_type": "code",
   "execution_count": 33,
   "metadata": {},
   "outputs": [],
   "source": [
    "img = cv2.imread(\"/home/ramiz/Pictures/wallpaper/kakashi3D.png\")"
   ]
  },
  {
   "cell_type": "code",
   "execution_count": 34,
   "metadata": {},
   "outputs": [],
   "source": [
    "image, box_list = box_detector(img, draw=True)"
   ]
  },
  {
   "cell_type": "code",
   "execution_count": 35,
   "metadata": {},
   "outputs": [
    {
     "data": {
      "text/plain": [
       "[1777, 0, 3268, 2050]"
      ]
     },
     "execution_count": 35,
     "metadata": {},
     "output_type": "execute_result"
    }
   ],
   "source": [
    "box_list"
   ]
  },
  {
   "cell_type": "code",
   "execution_count": 37,
   "metadata": {},
   "outputs": [
    {
     "data": {
      "image/png": "[encoded data removed]",
      "text/plain": [
       "<Figure size 432x288 with 1 Axes>"
      ]
     },
     "metadata": {
      "needs_background": "light"
     },
     "output_type": "display_data"
    }
   ],
   "source": [
    "plt.imshow(image)\n",
    "plt.show()"
   ]
  },
  {
   "cell_type": "code",
   "execution_count": null,
   "metadata": {},
   "outputs": [],
   "source": []
  }
 ],
 "metadata": {
  "kernelspec": {
   "display_name": "Python 3",
   "language": "python",
   "name": "python3"
  },
  "language_info": {
   "codemirror_mode": {
    "name": "ipython",
    "version": 3
   },
   "file_extension": ".py",
   "mimetype": "text/x-python",
   "name": "python",
   "nbconvert_exporter": "python",
   "pygments_lexer": "ipython3",
   "version": "3.8.5"
  }
 },
 "nbformat": 4,
 "nbformat_minor": 4
}
