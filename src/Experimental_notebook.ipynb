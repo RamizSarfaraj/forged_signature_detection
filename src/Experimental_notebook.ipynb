{
 "cells": [
  {
   "cell_type": "code",
   "execution_count": 1,
   "metadata": {},
   "outputs": [],
   "source": [
    "import ProcessImage\n",
    "from ProcessImage import Load_Image, Resize_Image, Detect_box, Process_Image\n",
    "import os\n",
    "import cv2\n",
    "import matplotlib.pyplot as plt\n",
    "import numpy as np"
   ]
  },
  {
   "cell_type": "code",
   "execution_count": 2,
   "metadata": {},
   "outputs": [],
   "source": [
    "def show_image(imageList, i, num_rows=2, num_cols=2, axis_off=True, figsize=(10, 5)):\n",
    "    x = 1\n",
    "    plt.figure(figsize=figsize)\n",
    "    while (x <= num_rows*num_cols):\n",
    "        plt.subplot(num_rows, num_cols, x)\n",
    "        plt.imshow(imageList[i])\n",
    "        if axis_off:\n",
    "            plt.axis(\"off\")\n",
    "        x+=1\n",
    "        i+=1"
   ]
  },
  {
   "cell_type": "code",
   "execution_count": 28,
   "metadata": {},
   "outputs": [],
   "source": [
    "# imagelist = Load_Image(path)\n",
    "\n",
    "# res = []\n",
    "# for i in imagelist:\n",
    "#     im = Resize_Image(i)\n",
    "#     img = Detect_box(im, Crop=True)\n",
    "#     res.append(img)\n",
    "\n",
    "def saveImage(imagelist, path, count, first=\"BNG_00\",):\n",
    "    for i in range(len(imagelist)):\n",
    "        des = path + first + str(count) + '.jpg'\n",
    "        plt.imsave(des, imagelist[i])\n",
    "        print(count)\n",
    "        count += 1\n",
    "        "
   ]
  },
  {
   "cell_type": "code",
   "execution_count": 81,
   "metadata": {},
   "outputs": [
    {
     "name": "stdout",
     "output_type": "stream",
     "text": [
      "732\n",
      "733\n",
      "734\n",
      "735\n",
      "736\n",
      "737\n",
      "738\n",
      "739\n",
      "740\n",
      "741\n",
      "742\n",
      "743\n",
      "744\n",
      "745\n",
      "746\n",
      "747\n",
      "748\n",
      "749\n",
      "750\n",
      "751\n",
      "752\n",
      "753\n",
      "754\n",
      "755\n",
      "756\n",
      "757\n",
      "758\n",
      "759\n",
      "760\n",
      "761\n",
      "762\n",
      "763\n",
      "764\n",
      "765\n",
      "766\n",
      "767\n",
      "768\n",
      "769\n",
      "770\n",
      "771\n",
      "772\n",
      "773\n",
      "774\n",
      "775\n",
      "776\n",
      "777\n",
      "778\n",
      "779\n",
      "780\n",
      "781\n",
      "782\n",
      "783\n",
      "\n",
      "\n",
      "\t\tDONE\n"
     ]
    }
   ],
   "source": [
    "path = \"/home/ramiz/Signature_project/Signs/frm_sir/Bangla/14/\"\n",
    "fake = \"/home/ramiz/Signature_project/Signs/frm_sir/fake/14/\"\n",
    "def operation(path, fake, count):\n",
    "    imagelist = Load_Image(path)\n",
    "    res = []\n",
    "    for i in imagelist:\n",
    "        im = Resize_Image(i)\n",
    "        img = Detect_box(im, Crop=True)\n",
    "        res.append(img)\n",
    "\n",
    "    saveImage(res, fake, count, first=\"BNG_0\")\n",
    "\n",
    "    print(\"\\n\\n\\t\\tDONE\")\n",
    "\n",
    "operation(path, fake, 732)"
   ]
  },
  {
   "cell_type": "code",
   "execution_count": 76,
   "metadata": {},
   "outputs": [
    {
     "data": {
      "text/plain": [
       "51"
      ]
     },
     "execution_count": 76,
     "metadata": {},
     "output_type": "execute_result"
    }
   ],
   "source": [
    "520 - 469"
   ]
  }
 ],
 "metadata": {
  "kernelspec": {
   "display_name": "Python 3",
   "language": "python",
   "name": "python3"
  },
  "language_info": {
   "codemirror_mode": {
    "name": "ipython",
    "version": 3
   },
   "file_extension": ".py",
   "mimetype": "text/x-python",
   "name": "python",
   "nbconvert_exporter": "python",
   "pygments_lexer": "ipython3",
   "version": "3.8.5"
  }
 },
 "nbformat": 4,
 "nbformat_minor": 4
}
