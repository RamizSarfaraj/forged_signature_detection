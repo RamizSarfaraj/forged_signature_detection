{
 "cells": [
  {
   "cell_type": "code",
   "execution_count": 2,
   "id": "a6bc80ef",
   "metadata": {},
   "outputs": [],
   "source": [
    "import matplotlib.pyplot as plt\n",
    "import pandas as pd\n",
    "import numpy as np\n",
    "import cv2\n",
    "import os"
   ]
  },
  {
   "cell_type": "code",
   "execution_count": 3,
   "id": "6981980d",
   "metadata": {},
   "outputs": [],
   "source": [
    "English = \"./../Signs/Processed-Original/English/\"\n",
    "Bengali = \"./../Signs/Processed-Original/Bengla/\"\n",
    "def imagePath(path):\n",
    "    im_lst = []\n",
    "    for root, dirs, filename in os.walk(path):\n",
    "        for _d in dirs:\n",
    "            path = os.path.join(root, _d)\n",
    "            for file in os.listdir(path):\n",
    "                file_id = os.path.join(path, file)\n",
    "                if file_id is not None:\n",
    "                    im_lst.append(file_id)\n",
    "    return im_lst\n"
   ]
  },
  {
   "cell_type": "code",
   "execution_count": 4,
   "id": "0986b186",
   "metadata": {},
   "outputs": [],
   "source": [
    "Englist_Images = imagePath(English)\n",
    "Bengali_Images = imagePath(Bengali)"
   ]
  },
  {
   "cell_type": "code",
   "execution_count": 5,
   "id": "ffea0e15",
   "metadata": {},
   "outputs": [],
   "source": [
    "def image_loader(image_path_list):\n",
    "    images = []\n",
    "    for i in image_path_list:\n",
    "        im = plt.imread(i)\n",
    "        if im is not None:\n",
    "            images.append(im)\n",
    "    return images"
   ]
  },
  {
   "cell_type": "code",
   "execution_count": 19,
   "id": "df2aefe0",
   "metadata": {},
   "outputs": [],
   "source": [
    "def show_image(imageList, i=0, num_rows=2, num_cols=2, axis_off=True, figsize=(10, 5)):\n",
    "    x = 1\n",
    "    plt.figure(figsize=figsize)\n",
    "    while (x <= num_rows*num_cols):\n",
    "        plt.subplot(num_rows, num_cols, x)\n",
    "        plt.imshow(imageList[i])\n",
    "        if axis_off:\n",
    "            plt.axis(\"off\")\n",
    "        x+=1\n",
    "        i+=1"
   ]
  },
  {
   "cell_type": "code",
   "execution_count": 6,
   "id": "14f2b981",
   "metadata": {},
   "outputs": [],
   "source": [
    "Eng_images = image_loader(Englist_Images)\n",
    "# show_image(Eng_images, i=34, axis_off=True)"
   ]
  },
  {
   "cell_type": "code",
   "execution_count": 7,
   "id": "bbd6952d",
   "metadata": {},
   "outputs": [
    {
     "name": "stdout",
     "output_type": "stream",
     "text": [
      "uint8 3963\n"
     ]
    }
   ],
   "source": [
    "print(Eng_images[1].dtype, len(Eng_images))"
   ]
  },
  {
   "cell_type": "code",
   "execution_count": 8,
   "id": "bd36aa0b",
   "metadata": {},
   "outputs": [],
   "source": [
    "def typechager(imagelist):\n",
    "    lst = []\n",
    "    for im in imagelist:\n",
    "        im = im.astype(\"float32\")\n",
    "        if im is not None:\n",
    "            lst.append(im)\n",
    "    return lst\n",
    "\n",
    "eng_im = typechager(Eng_images)"
   ]
  },
  {
   "cell_type": "code",
   "execution_count": 9,
   "id": "90d847cf",
   "metadata": {},
   "outputs": [
    {
     "name": "stdout",
     "output_type": "stream",
     "text": [
      "float32 3963\n"
     ]
    }
   ],
   "source": [
    "print(eng_im[1].dtype, len(eng_im))"
   ]
  },
  {
   "cell_type": "code",
   "execution_count": null,
   "id": "d7e5e0b2",
   "metadata": {},
   "outputs": [],
   "source": [
    "def interative(apth )"
   ]
  }
 ],
 "metadata": {
  "kernelspec": {
   "display_name": "Python 3",
   "language": "python",
   "name": "python3"
  },
  "language_info": {
   "codemirror_mode": {
    "name": "ipython",
    "version": 3
   },
   "file_extension": ".py",
   "mimetype": "text/x-python",
   "name": "python",
   "nbconvert_exporter": "python",
   "pygments_lexer": "ipython3",
   "version": "3.8.5"
  }
 },
 "nbformat": 4,
 "nbformat_minor": 5
}
