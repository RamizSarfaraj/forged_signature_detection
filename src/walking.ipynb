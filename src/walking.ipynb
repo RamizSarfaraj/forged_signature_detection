{
 "cells": [
  {
   "cell_type": "code",
   "execution_count": 38,
   "id": "a6bc80ef",
   "metadata": {},
   "outputs": [],
   "source": [
    "import matplotlib.pyplot as plt\n",
    "import pandas as pd\n",
    "import cv2\n",
    "import os"
   ]
  },
  {
   "cell_type": "code",
   "execution_count": 39,
   "id": "6981980d",
   "metadata": {},
   "outputs": [],
   "source": [
    "English = \"./../Signs/Processed-Original/English/\"\n",
    "Bengali = \"./../Signs/Processed-Original/Bengla/\"\n",
    "def imagePath(path):\n",
    "    im_lst = []\n",
    "    for root, dirs, filename in os.walk(path):\n",
    "        for _d in dirs:\n",
    "            path = os.path.join(root, _d)\n",
    "            for file in os.listdir(path):\n",
    "                file_id = os.path.join(path, file)\n",
    "                if file_id is not None:\n",
    "                    im_lst.append(file_id)\n",
    "    return im_lst\n"
   ]
  },
  {
   "cell_type": "code",
   "execution_count": 40,
   "id": "0986b186",
   "metadata": {},
   "outputs": [],
   "source": [
    "Englist_Images = imagePath(English)\n",
    "Bengali_Images = imagePath(Bengali)"
   ]
  },
  {
   "cell_type": "code",
   "execution_count": 41,
   "id": "ffea0e15",
   "metadata": {},
   "outputs": [],
   "source": [
    "def image_loader(image_path_list):\n",
    "    images = []\n",
    "    for i in image_path_list:\n",
    "        im = plt.imread(i)\n",
    "        if im is not None:\n",
    "            images.append(im)\n",
    "    return images"
   ]
  },
  {
   "cell_type": "code",
   "execution_count": 42,
   "id": "df2aefe0",
   "metadata": {},
   "outputs": [],
   "source": [
    "def show_image(imageList, i=0, num_rows=2, num_cols=2, axis_off=True, figsize=(10, 5)):\n",
    "    x = 1\n",
    "    plt.figure(figsize=figsize)\n",
    "    while (x <= num_rows*num_cols):\n",
    "        plt.subplot(num_rows, num_cols, x)\n",
    "        plt.imshow(imageList[i])\n",
    "        if axis_off:\n",
    "            plt.axis(\"off\")\n",
    "        x+=1\n",
    "        i+=1"
   ]
  },
  {
   "cell_type": "code",
   "execution_count": 43,
   "id": "14f2b981",
   "metadata": {},
   "outputs": [],
   "source": [
    "Eng_images = image_loader(Englist_Images)"
   ]
  },
  {
   "cell_type": "code",
   "execution_count": 44,
   "id": "33d6cb4e",
   "metadata": {},
   "outputs": [
    {
     "data": {
      "text/plain": [
       "[array([[[255, 255, 255],\n",
       "         [255, 255, 255],\n",
       "         [255, 255, 255],\n",
       "         ...,\n",
       "         [238, 240, 239],\n",
       "         [245, 245, 245],\n",
       "         [252, 252, 252]],\n",
       " \n",
       "        [[255, 255, 255],\n",
       "         [255, 255, 255],\n",
       "         [255, 255, 255],\n",
       "         ...,\n",
       "         [163, 163, 163],\n",
       "         [223, 223, 223],\n",
       "         [251, 251, 251]],\n",
       " \n",
       "        [[255, 255, 255],\n",
       "         [255, 255, 255],\n",
       "         [255, 255, 255],\n",
       "         ...,\n",
       "         [ 29,  29,  29],\n",
       "         [105, 105, 105],\n",
       "         [229, 229, 229]],\n",
       " \n",
       "        ...,\n",
       " \n",
       "        [[248, 248, 248],\n",
       "         [248, 248, 248],\n",
       "         [241, 241, 241],\n",
       "         ...,\n",
       "         [255, 255, 255],\n",
       "         [255, 255, 255],\n",
       "         [255, 255, 255]],\n",
       " \n",
       "        [[247, 247, 247],\n",
       "         [252, 252, 252],\n",
       "         [238, 238, 238],\n",
       "         ...,\n",
       "         [255, 255, 255],\n",
       "         [255, 255, 255],\n",
       "         [255, 255, 255]],\n",
       " \n",
       "        [[252, 252, 252],\n",
       "         [245, 245, 245],\n",
       "         [239, 239, 239],\n",
       "         ...,\n",
       "         [255, 255, 255],\n",
       "         [255, 255, 255],\n",
       "         [255, 255, 255]]], dtype=uint8)]"
      ]
     },
     "execution_count": 44,
     "metadata": {},
     "output_type": "execute_result"
    }
   ],
   "source": [
    "Eng_images[:1]"
   ]
  }
 ],
 "metadata": {
  "kernelspec": {
   "display_name": "Python 3",
   "language": "python",
   "name": "python3"
  },
  "language_info": {
   "codemirror_mode": {
    "name": "ipython",
    "version": 3
   },
   "file_extension": ".py",
   "mimetype": "text/x-python",
   "name": "python",
   "nbconvert_exporter": "python",
   "pygments_lexer": "ipython3",
   "version": "3.8.5"
  }
 },
 "nbformat": 4,
 "nbformat_minor": 5
}
